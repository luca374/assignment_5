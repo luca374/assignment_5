{
 "cells": [
  {
   "cell_type": "code",
   "execution_count": null,
   "metadata": {
    "scrolled": true
   },
   "outputs": [
    {
     "name": "stdout",
     "output_type": "stream",
     "text": [
      " * Serving Flask app \"__main__\" (lazy loading)\n",
      " * Environment: production\n",
      "   WARNING: This is a development server. Do not use it in a production deployment.\n",
      "   Use a production WSGI server instead.\n",
      " * Debug mode: off\n"
     ]
    },
    {
     "name": "stderr",
     "output_type": "stream",
     "text": [
      " * Running on http://localhost:9005/ (Press CTRL+C to quit)\n",
      "127.0.0.1 - - [18/Oct/2021 11:33:48] \"\u001b[37mGET / HTTP/1.1\u001b[0m\" 200 -\n",
      "127.0.0.1 - - [18/Oct/2021 11:33:49] \"\u001b[37mGET /about HTTP/1.1\u001b[0m\" 200 -\n"
     ]
    }
   ],
   "source": [
    "################################################################################################################\n",
    "\n",
    "# EXTERNAL MODULES TO BE USED\n",
    "\n",
    "################################################################################################################\n",
    "\n",
    "from flask import Flask, render_template, redirect, url_for\n",
    "import pandas as pd\n",
    "import requests\n",
    "import csv\n",
    "import sqlite3  \n",
    "\n",
    "app = Flask(__name__)\n",
    "    \n",
    "################################################################################################################\n",
    "\n",
    "# WEB ROUTES FOR CONTROLLING ACCESS TO TEMPLATE VIEWS\n",
    "\n",
    "################################################################################################################\n",
    "\n",
    "@app.route(\"/\")\n",
    "def index():\n",
    "    return render_template('index.html')\n",
    "\n",
    "@app.route(\"/blogs\")\n",
    "def blogs():\n",
    "    expo_info = [{'eName': '综合同人展COMICUP 2021SP', 'eDay': '2021/9/5', 'ePlace':'广州保利世贸博览馆'},\n",
    "        {'eName': '首届杭州百合ONLY', 'eDay': '2021/10/6', 'ePlace':'下城区香积寺路121号好来登大酒店'},\n",
    "        {'eName': '妖都JOJO ONLY2021', 'eDay': '2021/10/6', 'ePlace':'番禺区厦滘岭南电商产业园'},\n",
    "        {'eName': '北京ESONLY', 'eDay': '2021/10/6', 'ePlace':'北京大红门会展中心'},\n",
    "        {'eName': '左马一摊主游艇茶会', 'eDay': '2021/10/6', 'ePlace':'十六铺码头'},\n",
    "        {'eName': '2021魔都咒术only', 'eDay': '2021/10/6', 'ePlace':'黄浦区局门路735号【爱菲尔会馆】'}]\n",
    "    \n",
    "    return render_template('blogs.html', entries = expo_info)\n",
    "\n",
    "@app.route(\"/about\")\n",
    "def about():\n",
    "    #expo_info = [{'eName': '综合同人展COMICUP 2021SP', 'eDay': '2021/9/5', 'ePlace':'广州保利世贸博览馆'},\n",
    "        #{'eName': '首届杭州百合ONLY', 'eDay': '2021/10/6', 'ePlace':'下城区香积寺路121号好来登大酒店'},\n",
    "        #{'eName': '妖都JOJO ONLY2021', 'eDay': '2021/10/6', 'ePlace':'番禺区厦滘岭南电商产业园'},\n",
    "        #{'eName': '北京ESONLY', 'eDay': '2021/10/6', 'ePlace':'北京大红门会展中心'},\n",
    "        #{'eName': '左马一摊主游艇茶会', 'eDay': '2021/10/6', 'ePlace':'十六铺码头'},\n",
    "        #{'eName': '2021魔都咒术only', 'eDay': '2021/10/6', 'ePlace':'黄浦区局门路735号【爱菲尔会馆】'}]\n",
    "    \n",
    "    #df = pd.DataFrame(expo_info)\n",
    "    #df.to_csv('animete_expo.csv',mode='w',index=False)\n",
    "    df = pd.read_csv(\"animate_expo.csv\")\n",
    "    list = df.to_dict('records')\n",
    "    return render_template('about.html', entries = list)\n",
    "\n",
    "@app.route(\"/post\")\n",
    "def post():\n",
    "    return render_template('post.html')\n",
    "\n",
    "@app.route(\"/contact\")\n",
    "def contact():\n",
    "    return render_template('contact.html')\n",
    "\n",
    "@app.route(\"/dashboard\")\n",
    "def dashboard():\n",
    "    return render_template('dashboard.html')\n",
    "\n",
    "################################################################################################################\n",
    "\n",
    "# ERROR HANDLERS\n",
    "\n",
    "################################################################################################################\n",
    "\n",
    "@app.errorhandler(404)\n",
    "def page_not_found(e):\n",
    "    return render_template('404.html'), 404\n",
    "\n",
    "\n",
    "################################################################################################################\n",
    "\n",
    "# APPLICATION TEST RUN AT PORT 9003\n",
    "\n",
    "################################################################################################################\n",
    "\n",
    "if __name__ == '__main__':\n",
    "    app.run('localhost', 9005)"
   ]
  },
  {
   "cell_type": "code",
   "execution_count": null,
   "metadata": {},
   "outputs": [],
   "source": []
  }
 ],
 "metadata": {
  "kernelspec": {
   "display_name": "Python 3",
   "language": "python",
   "name": "python3"
  },
  "language_info": {
   "codemirror_mode": {
    "name": "ipython",
    "version": 3
   },
   "file_extension": ".py",
   "mimetype": "text/x-python",
   "name": "python",
   "nbconvert_exporter": "python",
   "pygments_lexer": "ipython3",
   "version": "3.8.5"
  }
 },
 "nbformat": 4,
 "nbformat_minor": 2
}
